{
  "nbformat": 4,
  "nbformat_minor": 0,
  "metadata": {
    "colab": {
      "name": "small_excel_manipulation.ipynb",
      "provenance": []
    },
    "kernelspec": {
      "name": "python3",
      "display_name": "Python 3"
    },
    "language_info": {
      "name": "python"
    }
  },
  "cells": [
    {
      "cell_type": "code",
      "metadata": {
        "colab": {
          "base_uri": "https://localhost:8080/"
        },
        "id": "UE7NpCx0fTGa",
        "outputId": "582c9c8c-e6b9-4969-cdd6-7e1d09a3906b"
      },
      "source": [
        "!git clone https://github.com/emurphy7/Odometer_project"
      ],
      "execution_count": 1,
      "outputs": [
        {
          "output_type": "stream",
          "text": [
            "Cloning into 'Odometer_project'...\n",
            "remote: Enumerating objects: 12, done.\u001b[K\n",
            "remote: Counting objects: 100% (12/12), done.\u001b[K\n",
            "remote: Compressing objects: 100% (12/12), done.\u001b[K\n",
            "remote: Total 12 (delta 3), reused 0 (delta 0), pack-reused 0\u001b[K\n",
            "Unpacking objects: 100% (12/12), done.\n"
          ],
          "name": "stdout"
        }
      ]
    },
    {
      "cell_type": "code",
      "metadata": {
        "colab": {
          "base_uri": "https://localhost:8080/"
        },
        "id": "QI_AXS3sfh-3",
        "outputId": "efafda59-fc6a-42ae-a14d-f58b7652d68e"
      },
      "source": [
        "cd /content/Odometer_project"
      ],
      "execution_count": 2,
      "outputs": [
        {
          "output_type": "stream",
          "text": [
            "/content/Odometer_project\n"
          ],
          "name": "stdout"
        }
      ]
    },
    {
      "cell_type": "code",
      "metadata": {
        "id": "v3IYt0D9tISl"
      },
      "source": [
        "# values have been changed to protect user information \n",
        "# This file changes the information within the provided excel file. This needs to be done in order to enter the correct \n",
        "# input into the object detector \n",
        "import pandas as pd\n",
        "from PIL import Image\n",
        "import json\n",
        "from PIL import ImageFile, Image\n",
        "ImageFile.LOAD_TRUNCATED_IMAGES = True\n",
        "import pandas as pd\n",
        "import numpy as np\n",
        "import math\n",
        "import warnings\n",
        "warnings.filterwarnings(\"ignore\")\n",
        "dfs = pd.read_excel(\"odometer_annotation_small.xlsx\" , sheet_name=None)"
      ],
      "execution_count": 3,
      "outputs": []
    },
    {
      "cell_type": "code",
      "metadata": {
        "colab": {
          "base_uri": "https://localhost:8080/"
        },
        "id": "1ZoJWkAltYPR",
        "outputId": "70b84b25-5bba-4a96-cd61-9a1f5b12be7d"
      },
      "source": [
        "data = dfs['Sheet1']\n",
        "columns = ['filename', 'width','height','class', 'xmin','ymin','xmax','ymax']\n",
        "image_url = data['image_url']\n",
        "# test and training split 75/25\n",
        "N = range(math.floor(len(image_url)*.75))\n",
        "N2 = range(math.floor(len(image_url)*.25)-1)\n",
        "df_train = pd.DataFrame(index=N,  columns=columns)\n",
        "df_train = df_train.fillna(0) # with 0s rather than NaNs\n",
        "df_test = pd.DataFrame(index = N2,  columns=columns)\n",
        "df_test = df_test.fillna(0) # with 0s rather than NaNs\n",
        "# Change Image_URL\n",
        "image_url = data['image_url']\n",
        "for i in range(len(image_url)):\n",
        "   image_url [i]= image_url [i].replace('data/ODOMETER_FILTERED/','')\n",
        "odometer_annotation = data['odometer_annotation']\n",
        "file_name = df_train['filename']\n",
        "width = df_train['width']\n",
        "height = df_train['height']\n",
        "classification = df_train['class']\n",
        "xmin = df_train['xmin']\n",
        "ymin =df_train['ymin']\n",
        "xmax = df_train['xmax']\n",
        "ymax = df_train['ymax']\n",
        "# N needs to be an int for the second for loop \n",
        "N = math.floor(len(image_url)*.75)\n",
        "for i in range(N):\n",
        "  box = odometer_annotation[i]\n",
        "  file_name [i] = image_url [i]\n",
        "  res = json.loads(box)\n",
        "  classification[i] = 'odometer'\n",
        "  xmin[i] = res['x']\n",
        "  xmax[i] = res['x'] + res['width']\n",
        "  ymin[i] = res['y']\n",
        "  ymax[i] = res['y'] + res['height']\n",
        "  width[i] = res['width']\n",
        "  height[i] = res['height']\n",
        "\n",
        "file_name = df_test['filename']\n",
        "width = df_test['width']\n",
        "height = df_test['height']\n",
        "classification = df_test['class']\n",
        "xmin = df_test['xmin']\n",
        "ymin =df_test['ymin']\n",
        "xmax = df_test['xmax']\n",
        "ymax = df_test['ymax']\n",
        "N2 = math.floor(len(image_url)*.25)\n",
        "\n",
        "for i in range(N2-1):\n",
        "  box = odometer_annotation[i+N +1]\n",
        "  res = json.loads(box)\n",
        "  file_name [i] = image_url [i+N +1 ]\n",
        "  classification[i] = 'odometer'\n",
        "  xmin[i] = res['x']\n",
        "  xmax[i] = res['x'] + res['width']\n",
        "  ymin[i] = res['y']\n",
        "  ymax[i] = res['y'] + res['height']\n",
        "  width[i] = res['width']\n",
        "  height[i] = res['height']\n",
        "print(df_train)\n",
        "print(df_test)"
      ],
      "execution_count": 6,
      "outputs": [
        {
          "output_type": "stream",
          "text": [
            "                  filename  width  height     class  xmin  ymin  xmax  ymax\n",
            "0    55979495_Odometer.jpg    139      28  odometer   354   279   493   307\n",
            "1   159092718_Odometer.jpg    106      22  odometer   228   227   334   249\n",
            "2   105884094_Odometer.jpg    262      46  odometer   210   260   472   306\n",
            "3    77557278_Odometer.jpg    127      34  odometer   188   174   315   208\n",
            "4    71459571_Odometer.jpg    329     112  odometer   481   561   810   673\n",
            "5   178451085_Odometer.jpg    163      32  odometer   400   547   563   579\n",
            "6    45640941_Odometer.jpg    187      43  odometer   160   105   347   148\n",
            "7    65577573_Odometer.jpg   1057     349  odometer     7   296  1064   645\n",
            "8   152707549_Odometer.jpg    142      51  odometer   266   217   408   268\n",
            "9   115282034_Odometer.jpg    204      44  odometer   283   277   487   321\n",
            "10   85570079_Odometer.jpg    170      37  odometer   284   206   454   243\n",
            "                 filename  width  height     class  xmin  ymin  xmax  ymax\n",
            "0  439269995_Odometer.jpg    301      77  odometer   195   283   496   360\n",
            "1  161021591_Odometer.jpg    142      60  odometer   225   243   367   303\n"
          ],
          "name": "stdout"
        }
      ]
    }
  ]
}