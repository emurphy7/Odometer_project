{
  "nbformat": 4,
  "nbformat_minor": 0,
  "metadata": {
    "colab": {
      "name": "excell_manipulation.ipynb",
      "provenance": [],
      "collapsed_sections": []
    },
    "kernelspec": {
      "name": "python3",
      "display_name": "Python 3"
    },
    "language_info": {
      "name": "python"
    }
  },
  "cells": [
    {
      "cell_type": "code",
      "metadata": {
        "colab": {
          "base_uri": "https://localhost:8080/"
        },
        "id": "sRlgaYYg3iIA",
        "outputId": "b70f68e9-3709-4e24-dc66-34db3917c770"
      },
      "source": [
        "  from google.colab import drive\n",
        "drive.mount('/content/gdrive')"
      ],
      "execution_count": null,
      "outputs": [
        {
          "output_type": "stream",
          "text": [
            "Mounted at /content/gdrive\n"
          ],
          "name": "stdout"
        }
      ]
    },
    {
      "cell_type": "code",
      "metadata": {
        "id": "ZXvCWDo03JZU"
      },
      "source": [
        "cp -r /content/drive/MyDrive/odometer_annotation.xlsx /content"
      ],
      "execution_count": null,
      "outputs": []
    },
    {
      "cell_type": "code",
      "metadata": {
        "id": "rVezscvwzcSE"
      },
      "source": [
        "cp -r /content/gdrive/MyDrive/ODOMETER_FILTERED.zip /content"
      ],
      "execution_count": null,
      "outputs": []
    },
    {
      "cell_type": "code",
      "metadata": {
        "id": "Sr8xW-yq33sa"
      },
      "source": [
        "import pandas as pd\n",
        "from PIL import Image\n",
        "import json\n",
        "from PIL import ImageFile, Image\n",
        "ImageFile.LOAD_TRUNCATED_IMAGES = True"
      ],
      "execution_count": null,
      "outputs": []
    },
    {
      "cell_type": "code",
      "metadata": {
        "id": "v4p-onYm38Zt"
      },
      "source": [
        "dfs = pd.read_excel(\"odometer_annotation.xlsx\" , sheet_name=None)"
      ],
      "execution_count": null,
      "outputs": []
    },
    {
      "cell_type": "code",
      "metadata": {
        "colab": {
          "base_uri": "https://localhost:8080/"
        },
        "id": "k16ec-Nh4Fei",
        "outputId": "033ac897-5c2e-4e49-e637-e1b7a51bcbc3"
      },
      "source": [
        "data = dfs['in']\n",
        "import pandas as pd\n",
        "import numpy as np\n",
        "import math\n",
        "columns = ['filename', 'width','height','class', 'xmin','ymin','xmax','ymax']\n",
        "image_url = data['image_url']\n",
        "N = range(math.floor(len(image_url)*.75))\n",
        "N2 = range(math.floor(len(image_url)*.25)-1)\n",
        "Nall = range(len(image_url))\n",
        "\n",
        "df_ = pd.DataFrame(index=Nall,  columns=columns)\n",
        "df_ = df_.fillna(0) # with 0s rather than NaNs\n",
        "df_train = pd.DataFrame(index=N,  columns=columns)\n",
        "df_train = df_train.fillna(0) # with 0s rather than NaNs\n",
        "df_test = pd.DataFrame(index = N2,  columns=columns)\n",
        "df_test = df_test.fillna(0) # with 0s rather than NaNs\n",
        "#print(df_train)\n",
        "#print(data)\n",
        "# Image_URL\n",
        "image_url = data['image_url']\n",
        "for i in range(len(image_url)):\n",
        "   image_url [i]= image_url [i].replace('data/ODOMETER_FILTERED/','')\n",
        "# Width\n",
        "odometer_annotation = data['odometer_annotation']\n",
        "file_name = df_train['filename']\n",
        "width = df_train['width']\n",
        "height = df_train['height']\n",
        "classification = df_train['class']\n",
        "xmin = df_train['xmin']\n",
        "ymin =df_train['ymin']\n",
        "xmax = df_train['xmax']\n",
        "ymax = df_train['ymax']\n",
        "\n",
        "N = math.floor(len(image_url)*.75)\n",
        "\n",
        "for i in range(N):\n",
        "  box = odometer_annotation[i]\n",
        "  file_name [i] = 'result_' +  image_url [i]\n",
        "  res = json.loads(box)\n",
        "  classification[i] = 'odometer'\n",
        "  xmin[i] = res['x'] *2 \n",
        "  xmax[i] = (res['x'] + res['width']) *2\n",
        "  ymin[i] = res['y'] *2\n",
        "  ymax[i] = (res['y'] + res['height']) *2 \n",
        "  width[i] = res['width'] *2 \n",
        "  height[i] = res['height'] *2 \n",
        "\n",
        "N2 = math.floor(len(image_url)*.25)\n",
        "file_name = df_test['filename']\n",
        "width = df_test['width']\n",
        "height = df_test['height']\n",
        "classification = df_test['class']\n",
        "xmin = df_test['xmin']\n",
        "ymin =df_test['ymin']\n",
        "xmax = df_test['xmax']\n",
        "ymax = df_test['ymax']\n",
        "N2 = math.floor(len(image_url)*.25)\n",
        "\n",
        "for i in range(N2-1):\n",
        "  box = odometer_annotation[i+N +1]\n",
        "  res = json.loads(box)\n",
        "  file_name [i] = 'result_' + image_url [i+N +1 ]\n",
        "  classification[i] = 'odometer'\n",
        "  xmin[i] = res['x'] *2 \n",
        "  xmax[i] = (res['x'] + res['width']) *2\n",
        "  ymin[i] = res['y'] *2\n",
        "  ymax[i] = (res['y'] + res['height']) *2 \n",
        "  width[i] = res['width'] *2 \n",
        "  height[i] = res['height'] *2 \n",
        "\n",
        "\n",
        "\n",
        "\n",
        "file_name = df_['filename']\n",
        "width = df_['width']\n",
        "height = df_['height']\n",
        "classification = df_['class']\n",
        "xmin = df_['xmin']\n",
        "ymin =df_['ymin']\n",
        "xmax = df_['xmax']\n",
        "ymax = df_['ymax']\n",
        "\n",
        "#for i in Nall:\n",
        "# box = odometer_annotation[i]\n",
        "#  file_name [i] = 'result_' + image_url [i]\n",
        "#  res = json.loads(box)\n",
        "# classification[i] = 'odometer'\n",
        "#  xmin[i] = res['x']\n",
        "#  xmax[i] = res['x'] + res['width']\n",
        "# ymin[i] = res['y']\n",
        "#  ymax[i] = res['y'] + res['height']\n",
        "#  width[i] = res['width']\n",
        "#  height[i] = res['height']"
      ],
      "execution_count": null,
      "outputs": [
        {
          "output_type": "stream",
          "text": [
            "/usr/local/lib/python3.7/dist-packages/ipykernel_launcher.py:40: SettingWithCopyWarning: \n",
            "A value is trying to be set on a copy of a slice from a DataFrame\n",
            "\n",
            "See the caveats in the documentation: https://pandas.pydata.org/pandas-docs/stable/user_guide/indexing.html#returning-a-view-versus-a-copy\n",
            "/usr/local/lib/python3.7/dist-packages/pandas/core/indexing.py:670: SettingWithCopyWarning: \n",
            "A value is trying to be set on a copy of a slice from a DataFrame\n",
            "\n",
            "See the caveats in the documentation: https://pandas.pydata.org/pandas-docs/stable/user_guide/indexing.html#returning-a-view-versus-a-copy\n",
            "  iloc._setitem_with_indexer(indexer, value)\n",
            "/usr/local/lib/python3.7/dist-packages/ipykernel_launcher.py:41: SettingWithCopyWarning: \n",
            "A value is trying to be set on a copy of a slice from a DataFrame\n",
            "\n",
            "See the caveats in the documentation: https://pandas.pydata.org/pandas-docs/stable/user_guide/indexing.html#returning-a-view-versus-a-copy\n",
            "/usr/local/lib/python3.7/dist-packages/ipykernel_launcher.py:42: SettingWithCopyWarning: \n",
            "A value is trying to be set on a copy of a slice from a DataFrame\n",
            "\n",
            "See the caveats in the documentation: https://pandas.pydata.org/pandas-docs/stable/user_guide/indexing.html#returning-a-view-versus-a-copy\n",
            "/usr/local/lib/python3.7/dist-packages/ipykernel_launcher.py:43: SettingWithCopyWarning: \n",
            "A value is trying to be set on a copy of a slice from a DataFrame\n",
            "\n",
            "See the caveats in the documentation: https://pandas.pydata.org/pandas-docs/stable/user_guide/indexing.html#returning-a-view-versus-a-copy\n",
            "/usr/local/lib/python3.7/dist-packages/ipykernel_launcher.py:44: SettingWithCopyWarning: \n",
            "A value is trying to be set on a copy of a slice from a DataFrame\n",
            "\n",
            "See the caveats in the documentation: https://pandas.pydata.org/pandas-docs/stable/user_guide/indexing.html#returning-a-view-versus-a-copy\n",
            "/usr/local/lib/python3.7/dist-packages/ipykernel_launcher.py:45: SettingWithCopyWarning: \n",
            "A value is trying to be set on a copy of a slice from a DataFrame\n",
            "\n",
            "See the caveats in the documentation: https://pandas.pydata.org/pandas-docs/stable/user_guide/indexing.html#returning-a-view-versus-a-copy\n",
            "/usr/local/lib/python3.7/dist-packages/ipykernel_launcher.py:46: SettingWithCopyWarning: \n",
            "A value is trying to be set on a copy of a slice from a DataFrame\n",
            "\n",
            "See the caveats in the documentation: https://pandas.pydata.org/pandas-docs/stable/user_guide/indexing.html#returning-a-view-versus-a-copy\n",
            "/usr/local/lib/python3.7/dist-packages/ipykernel_launcher.py:38: SettingWithCopyWarning: \n",
            "A value is trying to be set on a copy of a slice from a DataFrame\n",
            "\n",
            "See the caveats in the documentation: https://pandas.pydata.org/pandas-docs/stable/user_guide/indexing.html#returning-a-view-versus-a-copy\n",
            "/usr/local/lib/python3.7/dist-packages/ipykernel_launcher.py:63: SettingWithCopyWarning: \n",
            "A value is trying to be set on a copy of a slice from a DataFrame\n",
            "\n",
            "See the caveats in the documentation: https://pandas.pydata.org/pandas-docs/stable/user_guide/indexing.html#returning-a-view-versus-a-copy\n",
            "/usr/local/lib/python3.7/dist-packages/ipykernel_launcher.py:64: SettingWithCopyWarning: \n",
            "A value is trying to be set on a copy of a slice from a DataFrame\n",
            "\n",
            "See the caveats in the documentation: https://pandas.pydata.org/pandas-docs/stable/user_guide/indexing.html#returning-a-view-versus-a-copy\n",
            "/usr/local/lib/python3.7/dist-packages/ipykernel_launcher.py:65: SettingWithCopyWarning: \n",
            "A value is trying to be set on a copy of a slice from a DataFrame\n",
            "\n",
            "See the caveats in the documentation: https://pandas.pydata.org/pandas-docs/stable/user_guide/indexing.html#returning-a-view-versus-a-copy\n",
            "/usr/local/lib/python3.7/dist-packages/ipykernel_launcher.py:66: SettingWithCopyWarning: \n",
            "A value is trying to be set on a copy of a slice from a DataFrame\n",
            "\n",
            "See the caveats in the documentation: https://pandas.pydata.org/pandas-docs/stable/user_guide/indexing.html#returning-a-view-versus-a-copy\n",
            "/usr/local/lib/python3.7/dist-packages/ipykernel_launcher.py:67: SettingWithCopyWarning: \n",
            "A value is trying to be set on a copy of a slice from a DataFrame\n",
            "\n",
            "See the caveats in the documentation: https://pandas.pydata.org/pandas-docs/stable/user_guide/indexing.html#returning-a-view-versus-a-copy\n",
            "/usr/local/lib/python3.7/dist-packages/ipykernel_launcher.py:68: SettingWithCopyWarning: \n",
            "A value is trying to be set on a copy of a slice from a DataFrame\n",
            "\n",
            "See the caveats in the documentation: https://pandas.pydata.org/pandas-docs/stable/user_guide/indexing.html#returning-a-view-versus-a-copy\n",
            "/usr/local/lib/python3.7/dist-packages/ipykernel_launcher.py:69: SettingWithCopyWarning: \n",
            "A value is trying to be set on a copy of a slice from a DataFrame\n",
            "\n",
            "See the caveats in the documentation: https://pandas.pydata.org/pandas-docs/stable/user_guide/indexing.html#returning-a-view-versus-a-copy\n",
            "/usr/local/lib/python3.7/dist-packages/ipykernel_launcher.py:62: SettingWithCopyWarning: \n",
            "A value is trying to be set on a copy of a slice from a DataFrame\n",
            "\n",
            "See the caveats in the documentation: https://pandas.pydata.org/pandas-docs/stable/user_guide/indexing.html#returning-a-view-versus-a-copy\n"
          ],
          "name": "stderr"
        }
      ]
    },
    {
      "cell_type": "code",
      "metadata": {
        "id": "O0YmXuF0EXU-"
      },
      "source": [
        "\n",
        "compression_opts = dict(method='zip',\n",
        "                        archive_name='train.csv') \n",
        "df_train.to_csv('train.zip', index=False,\n",
        "          compression=compression_opts) \n",
        "compression_opts = dict(method='zip',\n",
        "                        archive_name='test.csv') \n",
        "df_test.to_csv('test.zip', index=False,\n",
        "          compression=compression_opts) "
      ],
      "execution_count": 49,
      "outputs": []
    },
    {
      "cell_type": "code",
      "metadata": {
        "id": "wOtHyr5ERKTB"
      },
      "source": [
        "#cp -r /content/gdrive/MyDrive/ODOMETER_FILTERED /content/ODOMETER_FILTERED\n",
        "!cp -r /content/gdrive/MyDrive/ODOMETER_FILTERED_bicubic_result_sharpen /content/ODOMETER_FILTERED_bicubic_result_sharpen"
      ],
      "execution_count": null,
      "outputs": []
    },
    {
      "cell_type": "code",
      "metadata": {
        "id": "E39D1M75gmHb"
      },
      "source": [
        "\n",
        "import pandas as pd\n",
        "from PIL import Image\n",
        "import json\n",
        "from PIL import ImageFile, Image\n",
        "ImageFile.LOAD_TRUNCATED_IMAGES = True\n",
        "dfs = pd.read_excel(\"odometer_annotation.xlsx\" , sheet_name=None)\n",
        "dict = dfs['in']\n",
        "url = dict['image_url']\n",
        "bounding_box = dict['odometer_annotation']\n",
        "N = len(url)\n",
        "#print('content/ODOMETER_FILTERED_bicubic_result_sharpen/result_' + url[i][23:])\n",
        "\n",
        "# bicubic_shapened_cropped\n",
        "for i in range(N):\n",
        "  image_url = '/content/ODOMETER_FILTERED_bicubic_result_sharpen/result_' + url[i][23:]\n",
        "  #print(image_url)\n",
        "  box = bounding_box[i]\n",
        "  res = json.loads(box)\n",
        "  left = res['x'] *2 \n",
        "  right = (res['x'] + res['width']) *2 \n",
        "  top = res['y'] *2 \n",
        "  bottom = (res['y'] + res['height']) *2\n",
        "  #im = Image.open(image_url)\n",
        "  #im1 = im.crop((left, top, right, bottom))\n",
        "  #url_result = image_url[27:-4]   + '_cropped.jpg'\n",
        "  #print(url_result)\n",
        "  #im1.save(\"/content/\" + url_result, 'JPEG')\n",
        "\n",
        "\n",
        "#for i in range(N):\n",
        "#  image_url = \"/content/\" + url[i][5:]\n",
        "#  box = bounding_box[i]\n",
        "#  res = json.loads(box)\n",
        "#  left = res['x'] \n",
        "#  right = (res['x'] + res['width'])  \n",
        "#  top = res['y']  \n",
        "#  bottom = (res['y'] + res['height']) \n",
        "#  im = Image.open(image_url)\n",
        "#  im1 = im.crop((left, top, right, bottom))\n",
        "#  url_result = image_url[27:-4] + '_cropped.jpg'\n",
        "#  im1.save(\"/content/cropped_results/\" + url_result, 'JPEG')\n",
        "\n"
      ],
      "execution_count": 49,
      "outputs": []
    },
    {
      "cell_type": "code",
      "metadata": {
        "colab": {
          "base_uri": "https://localhost:8080/"
        },
        "id": "AXSWlYQyyUsZ",
        "outputId": "5438fb01-236f-4675-d20f-877dadddaacb"
      },
      "source": [
        "print( url_result)\n",
        "print(image_url)\n",
        "print(N)"
      ],
      "execution_count": null,
      "outputs": [
        {
          "output_type": "stream",
          "text": [
            "bicubic_result_sharpen/result_95979495_Odometer_cropped.jpg\n",
            "/content/ODOMETER_FILTERED_bicubic_result_sharpen/result_95979495_Odometer.jpg\n",
            "6208\n"
          ],
          "name": "stdout"
        }
      ]
    },
    {
      "cell_type": "code",
      "metadata": {
        "colab": {
          "base_uri": "https://localhost:8080/"
        },
        "id": "c0-YGKENgoAO",
        "outputId": "a31155de-09aa-4e71-db2c-57ba3b8d4260"
      },
      "source": [
        "print(image_url)"
      ],
      "execution_count": null,
      "outputs": [
        {
          "output_type": "stream",
          "text": [
            "/content/ODOMETER_FILTERED/95979495_Odometer.jpg\n"
          ],
          "name": "stdout"
        }
      ]
    },
    {
      "cell_type": "code",
      "metadata": {
        "id": "4WKO0v-HRYVB"
      },
      "source": [
        "\n",
        "for i in range(N):\n",
        "  url =  image_url[i]\n",
        "  im = Image.open(url)\n",
        "  url_result = url[27:]\n",
        "  im.save(\"/content/train/\" + url_result, 'JPEG')\n"
      ],
      "execution_count": null,
      "outputs": []
    },
    {
      "cell_type": "code",
      "metadata": {
        "id": "E7IuXdYYRW3i"
      },
      "source": [
        "#############################################\n",
        "######### Character csv file edit ###########\n",
        "############################################\n",
        "import json\n",
        "import matplotlib.pyplot as plt\n",
        "\n",
        "data = dfs['in']\n",
        "characters = data['char_annotation']\n",
        "# image\n",
        "#55739 all \n",
        "#41988 train\n",
        "char_image_N = range(55739)\n",
        "df_train_char = pd.DataFrame(index=char_image_N,  columns=columns)\n",
        "df_train_char = df_train_char.fillna(0) # with 0s rather than NaNs\n",
        "file_name = df_train_char['filename']\n",
        "width = df_train_char['width']\n",
        "height = df_train_char['height']\n",
        "classification = df_train_char['class']\n",
        "xmin = df_train_char['xmin']\n",
        "ymin =df_train_char['ymin']\n",
        "xmax = df_train_char['xmax']\n",
        "ymax = df_train_char['ymax']\n",
        "over_count = 0;\n",
        "ind = []\n",
        "#Nall\n",
        "for i in Nall:\n",
        "  line = characters[i][1:-1]\n",
        "  x_crop = df_['xmin'][i]\n",
        "  y_crop = df_['ymin'][i]\n",
        "  x_max = df_['xmax'][i]\n",
        "  y_max = df_['xmax'][i]\n",
        "  image_width = 2*df_['width'][i]\n",
        "  image_height = 2*df_['height'][i]\n",
        "  x = line.split(\"}, \")\n",
        "  #line_dic = json.loads(line)\n",
        "  # characters in image\n",
        "  N_char = len(x)\n",
        "  url = '/content/bicubic_result_sharpen/' + image_url [i] [:-4] + '_cropped.jpg'\n",
        "  #im = Image.open(url)\n",
        "  #N_char\n",
        "  for j in range(N_char):\n",
        "    if(j == N_char - 1):\n",
        "      line_dic = json.loads(x[j] )\n",
        "    else:\n",
        "      line_dic = json.loads(x[j] + '}' )\n",
        "\n",
        "    left = line_dic['x'] - x_crop\n",
        "    right = left + line_dic['width'] \n",
        "    top = line_dic['y']  - y_crop\n",
        "    bottom = top + line_dic['height']\n",
        "    number = line_dic['char_annot']\n",
        "    xmin[count] = (left *2 / image_width) * 100\n",
        "    ymin[count] = (top *2 / image_height) * 100\n",
        "    if (image_width < x_max):\n",
        "      xmax[count] = (right *2 / image_width) * 100 \n",
        "    else: \n",
        "      xmax[count] = df_['width'][i]\n",
        "      over_count = over_count + 1;\n",
        "      ind.append(count)\n",
        "    if (image_height < y_max):\n",
        "      ymax[count] = (bottom *2 /image_height) * 100\n",
        "    else: \n",
        "      ymax[count] = df_['height'][i]\n",
        "      over_count = over_count + 1;\n",
        "      ind.append(count)\n",
        "    width[count] = xmax[count] - xmin[count]\n",
        "    height[count] = ymax[count] - ymin[count]\n",
        "    file_name [count] = url\n",
        "    if number == '0':\n",
        "      classification[count] = '0'\n",
        "    elif number == '1' :\n",
        "      classification[count] = '1'\n",
        "    elif number == '2' :\n",
        "      classification[count] = '2'\n",
        "    elif number == '3' :\n",
        "      classification[count] = '3'\n",
        "    elif number == '4' :\n",
        "      classification[count] = '4'\n",
        "      \n",
        "    elif number == '5' :\n",
        "      classification[count] = '5'\n",
        "      \n",
        "    elif number == '6' :\n",
        "      classification[count] = '6'\n",
        "      \n",
        "    elif number == '7' :\n",
        "      classification[count] = '7'\n",
        "\n",
        "    elif number == '8' :\n",
        "      classification[count] = '8'\n",
        "      \n",
        "    elif number == '9' :\n",
        "      classification[count] = '9'\n",
        "   \n",
        "    else :\n",
        "      classification[count] = 'char'\n",
        "    count = count + 1;\n",
        "\n",
        "\n"
      ],
      "execution_count": 49,
      "outputs": []
    },
    {
      "cell_type": "code",
      "metadata": {
        "id": "OVG_azmeepqn"
      },
      "source": [
        "#df_train_remove = np.delete(df_train_char,ind,axis=0)\n",
        "  \n",
        "\n",
        "print(df_train_char)\n",
        "#df_train_char.drop(ind)\n",
        "print(df_train_char)\n",
        "#df_train_char = df_train_char.index[df_train_char['xmin'] > 0]\n",
        "\n",
        "df_train_char = df_train_char[(df_train_char['ymin'] > 0)]\n",
        "df_train_char = df_train_char[(df_train_char['xmin'] > 0)]\n",
        "\n",
        "df_train_char = df_train_char.reset_index(drop=True)\n",
        "df_train_char.to_excel(\"char_annotation.xlsx\")\n",
        "print(df_train_char['xmax'])\n",
        "\n",
        "df_train_char['xmin'].to_csv('test.out', float_format='%.2f', index=False, header=False)\n",
        "\n",
        "!type test.out"
      ],
      "execution_count": null,
      "outputs": []
    },
    {
      "cell_type": "code",
      "metadata": {
        "id": "mlALMlmjqNF_"
      },
      "source": [
        "!cp -r /content/char_annotation.xlsx /content/gdrive/MyDrive/\n",
        "\n"
      ],
      "execution_count": null,
      "outputs": []
    },
    {
      "cell_type": "code",
      "metadata": {
        "id": "ySrSpjG3zC9-"
      },
      "source": [
        "!cp -r /content/bicubic_result_sharpen /content/gdrive/MyDrive/bicubic_result_sharpen"
      ],
      "execution_count": null,
      "outputs": []
    },
    {
      "cell_type": "code",
      "metadata": {
        "colab": {
          "base_uri": "https://localhost:8080/",
          "height": 35
        },
        "id": "KKGV8gi1p18y",
        "outputId": "6ee3b383-785f-4373-b39d-2c32a6ba0080"
      },
      "source": [
        "pwd"
      ],
      "execution_count": null,
      "outputs": [
        {
          "output_type": "execute_result",
          "data": {
            "application/vnd.google.colaboratory.intrinsic+json": {
              "type": "string"
            },
            "text/plain": [
              "'/content'"
            ]
          },
          "metadata": {
            "tags": []
          },
          "execution_count": 93
        }
      ]
    },
    {
      "cell_type": "code",
      "metadata": {
        "id": "aaCoVBooddfN"
      },
      "source": [
        "\n",
        "!cp -r  /content/cropped /content/gdrive/MyDrive/cropped"
      ],
      "execution_count": null,
      "outputs": []
    },
    {
      "cell_type": "code",
      "metadata": {
        "id": "si3HgFyvljy4"
      },
      "source": [
        "for i in range(N2-1):\n",
        "  url =  image_url[i+N +1]\n",
        "  im = Image.open(url)\n",
        "  url_result = url[27:]\n",
        "  im.save(\"/content/test/\" + url_result, 'JPEG')"
      ],
      "execution_count": null,
      "outputs": []
    },
    {
      "cell_type": "code",
      "metadata": {
        "id": "N8JODgT7jJEY"
      },
      "source": [
        "!cp -r  /content/test /content/gdrive/MyDrive/test_all"
      ],
      "execution_count": null,
      "outputs": []
    },
    {
      "cell_type": "code",
      "metadata": {
        "id": "dfm8D-RyjLQj"
      },
      "source": [
        "!cp -r /content/train_all /content/gdrive/MyDrive/train_all"
      ],
      "execution_count": null,
      "outputs": []
    },
    {
      "cell_type": "code",
      "metadata": {
        "id": "AEBmk82I4gLK"
      },
      "source": [
        "# increase in resolution\n",
        "\n",
        "dfs = pd.read_excel(\"char_annotation_remove_clipped.xlsx\" , sheet_name=None)\n",
        "\n",
        "dfs = dfs['Sheet1']\n",
        "dfs = dfs.drop(columns=['Unnamed: 0'])\n"
      ],
      "execution_count": 49,
      "outputs": []
    },
    {
      "cell_type": "code",
      "metadata": {
        "colab": {
          "base_uri": "https://localhost:8080/"
        },
        "id": "HqLpMKDS49hD",
        "outputId": "9ad52137-610a-4012-ef30-be39d8b03f2e"
      },
      "source": [
        "filename = dfs['filename']\n",
        "xmin = dfs['xmin']\n",
        "ymin = dfs['ymin']\n",
        "xmax = dfs['xmax']\n",
        "ymax = dfs['ymax']\n",
        "width = dfs['width']\n",
        "height = dfs['height']\n",
        "for i in range(len(dfs)):\n",
        "  filename[i] =  'result_' + filename[i]\n",
        "  xmin[i] = xmin[i]*2\n",
        "  ymin[i] = ymin[i]*2\n",
        "  ymax[i] = ymax[i]*2\n",
        "  xmax[i] = xmax[i]*2\n",
        "  width[i] = width[i]*2\n",
        "  height[i] = height[i]*2\n"
      ],
      "execution_count": null,
      "outputs": [
        {
          "output_type": "stream",
          "text": [
            "/usr/local/lib/python3.7/dist-packages/ipykernel_launcher.py:9: SettingWithCopyWarning: \n",
            "A value is trying to be set on a copy of a slice from a DataFrame\n",
            "\n",
            "See the caveats in the documentation: https://pandas.pydata.org/pandas-docs/stable/user_guide/indexing.html#returning-a-view-versus-a-copy\n",
            "  if __name__ == '__main__':\n",
            "/usr/local/lib/python3.7/dist-packages/ipykernel_launcher.py:10: SettingWithCopyWarning: \n",
            "A value is trying to be set on a copy of a slice from a DataFrame\n",
            "\n",
            "See the caveats in the documentation: https://pandas.pydata.org/pandas-docs/stable/user_guide/indexing.html#returning-a-view-versus-a-copy\n",
            "  # Remove the CWD from sys.path while we load stuff.\n",
            "/usr/local/lib/python3.7/dist-packages/ipykernel_launcher.py:11: SettingWithCopyWarning: \n",
            "A value is trying to be set on a copy of a slice from a DataFrame\n",
            "\n",
            "See the caveats in the documentation: https://pandas.pydata.org/pandas-docs/stable/user_guide/indexing.html#returning-a-view-versus-a-copy\n",
            "  # This is added back by InteractiveShellApp.init_path()\n",
            "/usr/local/lib/python3.7/dist-packages/ipykernel_launcher.py:12: SettingWithCopyWarning: \n",
            "A value is trying to be set on a copy of a slice from a DataFrame\n",
            "\n",
            "See the caveats in the documentation: https://pandas.pydata.org/pandas-docs/stable/user_guide/indexing.html#returning-a-view-versus-a-copy\n",
            "  if sys.path[0] == '':\n",
            "/usr/local/lib/python3.7/dist-packages/ipykernel_launcher.py:13: SettingWithCopyWarning: \n",
            "A value is trying to be set on a copy of a slice from a DataFrame\n",
            "\n",
            "See the caveats in the documentation: https://pandas.pydata.org/pandas-docs/stable/user_guide/indexing.html#returning-a-view-versus-a-copy\n",
            "  del sys.path[0]\n",
            "/usr/local/lib/python3.7/dist-packages/ipykernel_launcher.py:14: SettingWithCopyWarning: \n",
            "A value is trying to be set on a copy of a slice from a DataFrame\n",
            "\n",
            "See the caveats in the documentation: https://pandas.pydata.org/pandas-docs/stable/user_guide/indexing.html#returning-a-view-versus-a-copy\n",
            "  \n",
            "/usr/local/lib/python3.7/dist-packages/ipykernel_launcher.py:15: SettingWithCopyWarning: \n",
            "A value is trying to be set on a copy of a slice from a DataFrame\n",
            "\n",
            "See the caveats in the documentation: https://pandas.pydata.org/pandas-docs/stable/user_guide/indexing.html#returning-a-view-versus-a-copy\n",
            "  from ipykernel import kernelapp as app\n"
          ],
          "name": "stderr"
        }
      ]
    },
    {
      "cell_type": "code",
      "metadata": {
        "id": "TyNgKhf76r5L"
      },
      "source": [
        "\n",
        "dfs.to_excel(\"char_annotation_higher_res.xlsx\")\n"
      ],
      "execution_count": 48,
      "outputs": []
    },
    {
      "cell_type": "code",
      "metadata": {
        "id": "WNVDPU9u76da"
      },
      "source": [
        "!cp /content/char_annotation_higher_res.xlsx /content/gdrive/MyDrive"
      ],
      "execution_count": null,
      "outputs": []
    },
    {
      "cell_type": "code",
      "metadata": {
        "id": "pNoWG311avrD"
      },
      "source": [
        "#####################################################################\n",
        "#######                    FINAL RESULTS                       ######\n",
        "#####################################################################"
      ],
      "execution_count": null,
      "outputs": []
    },
    {
      "cell_type": "code",
      "metadata": {
        "colab": {
          "base_uri": "https://localhost:8080/"
        },
        "id": "T8CiuzAtbE-P",
        "outputId": "c312457c-9251-4f1f-a4b6-43c3c3255b7e"
      },
      "source": [
        "import pandas as pd \n",
        "import math\n",
        "import json\n",
        "v1 = pd.read_csv('digit_result_v1_extend1.csv')\n",
        "v2 = pd.read_csv('digit_result_v2_extend1.csv')\n",
        "df_ = pd.read_excel(\"odometer_annotation.xlsx\" , sheet_name=None)\n",
        "data = df_['in']\n",
        "image_url = data['image_url']\n",
        "N = math.floor(len(image_url)*.75)\n",
        "N2 = math.floor(len(image_url)*.25)\n",
        "test = data[N+1:N+N2]\n",
        "test = test.reset_index(drop=True)\n",
        "test = test['odometer_annotation']\n",
        "v1 = v1['mileage']\n",
        "v2 = v2['mileage']\n",
        "count_v1 = 0 \n",
        "count_v2 = 0\n",
        "count_v1_1000 =0\n",
        "count_v2_1000= 0\n",
        "for i in range(N2-1):\n",
        "  box = test[i]\n",
        "  res = json.loads(box)\n",
        "  if(res['ExtractedMileage'] != ''):\n",
        "    Mileage = math.floor(float((res['ExtractedMileage'])))\n",
        "  else:\n",
        "    Mileage = 0\n",
        "  if Mileage == v1[i]:\n",
        "    count_v1 = count_v1 + 1 \n",
        "  if Mileage == v2[i]:\n",
        "    count_v2 = count_v2 + 1 \n",
        "  if abs(Mileage - v1[i]) < 1000:\n",
        "     count_v1_1000 = count_v1_1000 + 1 \n",
        "  if(abs(Mileage - v2[i]) < 1000):\n",
        "    count_v2_1000 = count_v2_1000 + 1\n",
        "print(count_v1 / len(v1))\n",
        "print(count_v2 / len(v2))\n",
        "print(count_v1_1000/ len(v1))\n",
        "print(count_v2_1000 / len(v2))\n",
        "print(.2578 - .1702)\n",
        "print(.4403 - .3500)"
      ],
      "execution_count": 47,
      "outputs": [
        {
          "output_type": "stream",
          "text": [
            "0.1702127659574468\n",
            "0.35009671179883944\n",
            "0.2578981302385558\n",
            "0.440361057382334\n",
            "0.08759999999999998\n",
            "0.09030000000000005\n"
          ],
          "name": "stdout"
        }
      ]
    }
  ]
}